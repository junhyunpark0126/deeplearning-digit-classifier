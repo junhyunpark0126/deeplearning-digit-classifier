{
  "cells": [
    {
      "cell_type": "markdown",
      "metadata": {
        "id": "view-in-github",
        "colab_type": "text"
      },
      "source": [
        "<a href=\"https://colab.research.google.com/github/junhyunpark0126/deeplearning-digit-classifier/blob/main/deeplearning_digit_classifier.ipynb\" target=\"_parent\"><img src=\"https://colab.research.google.com/assets/colab-badge.svg\" alt=\"Open In Colab\"/></a>"
      ]
    },
    {
      "cell_type": "markdown",
      "metadata": {
        "id": "ywLp-5aPgkjm"
      },
      "source": [
        "# Libraries and Setup Jargon\n"
      ]
    },
    {
      "cell_type": "markdown",
      "metadata": {
        "id": "RY5BOTyRg4Qf"
      },
      "source": [
        "## Import the required Libraries"
      ]
    },
    {
      "cell_type": "code",
      "execution_count": null,
      "metadata": {
        "id": "6diQ4Pfug3uw"
      },
      "outputs": [],
      "source": [
        "import pandas as pd\n",
        "import numpy as np\n",
        "import matplotlib.pyplot as plt\n",
        "import seaborn as sns\n",
        "from matplotlib import cm\n",
        "from sklearn.model_selection import train_test_split\n",
        "import torch\n",
        "import torchvision\n",
        "from torchvision import transforms, utils\n",
        "import torch.nn as nn\n",
        "import torch.optim as optim\n",
        "import torchvision.transforms as transforms\n",
        "from collections import Counter\n",
        "from PIL import Image\n",
        "from skimage import io, transform\n",
        "import os\n",
        "from torchvision.io import read_image\n",
        "from torch.utils.data import Dataset, DataLoader\n",
        "from collections import Counter\n",
        "from google.colab import drive\n",
        "from prophet import Prophet\n",
        "from statsmodels.tsa.arima.model import ARIMA"
      ]
    },
    {
      "cell_type": "markdown",
      "metadata": {
        "id": "xq7rZTSc0xoq"
      },
      "source": [
        "## Set up GPU capabilities\n",
        "\n",
        "The cell below sets up a CUDA device to use with torch.\n"
      ]
    },
    {
      "cell_type": "code",
      "execution_count": null,
      "metadata": {
        "colab": {
          "base_uri": "https://localhost:8080/"
        },
        "id": "9Gvv3LVN0xo-",
        "outputId": "46ec42e6-11ff-4606-ed82-fdd732a4829f"
      },
      "outputs": [
        {
          "output_type": "stream",
          "name": "stdout",
          "text": [
            "2.1.0+cu118\n",
            "cuda:0\n"
          ]
        }
      ],
      "source": [
        "torch.manual_seed(42)\n",
        "device = torch.device(\"cuda:0\" if torch.cuda.is_available() else \"cpu\")\n",
        "print(torch.__version__)\n",
        "print(device)"
      ]
    },
    {
      "cell_type": "code",
      "execution_count": null,
      "metadata": {
        "colab": {
          "base_uri": "https://localhost:8080/"
        },
        "id": "ZO8Hr0MIw_KK",
        "outputId": "420eb4eb-ea5a-4c31-8954-e6ccb08d4b5a"
      },
      "outputs": [
        {
          "output_type": "execute_result",
          "data": {
            "text/plain": [
              "device(type='cuda', index=0)"
            ]
          },
          "metadata": {},
          "execution_count": 6
        }
      ],
      "source": [
        "device"
      ]
    },
    {
      "cell_type": "markdown",
      "metadata": {
        "id": "pUAu-nqZABre"
      },
      "source": [
        "# **Part 1:** Data Preprocessing and Preparation for Modeling in `PyTorch`\n",
        "\n",
        "We will be classifying images using a somewhat famous dataset from Stanford.\n",
        "\n",
        "Dataset Citation:\n",
        "\n",
        "Yuval Netzer, Tao Wang, Adam Coates, Alessandro Bissacco, Bo Wu, Andrew Y. Ng Reading Digits in Natural Images with Unsupervised Feature Learning NIPS Workshop on Deep Learning and Unsupervised Feature Learning 2011."
      ]
    },
    {
      "cell_type": "markdown",
      "metadata": {
        "id": "ui_5UjEFABr9"
      },
      "source": [
        "The dataset is called Street View House Numbers (or SVHN). The dataset consists of images of **house numbers**, taken from Google Street View. There are 10 classes, one for each digit (0-9).\n",
        "\n",
        "\n",
        "For more information about the dataset, please look [here](http://ufldl.stanford.edu/housenumbers/)\n",
        "\n",
        "There are 73,257 sample digits for training, 26,032 samples for testing, and 531131 extra samples.\n",
        "\n",
        "We will be using this dataset to train 3 different models:\n",
        "\n",
        "1.   Logistic Regression\n",
        "2.   Feedforward (Fully-Connected) Neural Network (FNN)\n",
        "3.   Convolutional Neural Network (CNN)\n",
        "\n",
        "And analyze the difference between these models by looking at the test accuracy and loss."
      ]
    },
    {
      "cell_type": "markdown",
      "metadata": {
        "id": "_KaEH3IfABr-"
      },
      "source": [
        "### 1.1.1 Instantiate Dataset (for train/test dataset)\n",
        "\n"
      ]
    },
    {
      "cell_type": "code",
      "execution_count": null,
      "metadata": {
        "id": "d4Cy6KgnABr-"
      },
      "outputs": [],
      "source": [
        "scale = 32\n",
        "\n",
        "transform = transforms.Compose([\n",
        "    transforms.Resize((scale, scale)),\n",
        "    transforms.ToTensor(),\n",
        "    transforms.Normalize(mean=[0.485, 0.456, 0.406], std=[0.229, 0.224, 0.225])\n",
        "])"
      ]
    },
    {
      "cell_type": "markdown",
      "metadata": {
        "id": "bbF48VwuABr-"
      },
      "source": [
        "Now that we have defined the tranforms we are going to apply to the dataset, let's instantiate `Dataset` objects for both the training and testing sets using predefined PyTorch Dataset."
      ]
    },
    {
      "cell_type": "code",
      "execution_count": null,
      "metadata": {
        "colab": {
          "base_uri": "https://localhost:8080/"
        },
        "id": "u3NY-T9uABr-",
        "outputId": "0b57644c-896b-47b1-8fce-e33094c26e84"
      },
      "outputs": [
        {
          "output_type": "stream",
          "name": "stdout",
          "text": [
            "Downloading http://ufldl.stanford.edu/housenumbers/train_32x32.mat to ./data/train_32x32.mat\n"
          ]
        },
        {
          "output_type": "stream",
          "name": "stderr",
          "text": [
            "100%|██████████| 182040794/182040794 [00:11<00:00, 16010192.68it/s]\n"
          ]
        },
        {
          "output_type": "stream",
          "name": "stdout",
          "text": [
            "Downloading http://ufldl.stanford.edu/housenumbers/test_32x32.mat to ./data/test_32x32.mat\n"
          ]
        },
        {
          "output_type": "stream",
          "name": "stderr",
          "text": [
            "100%|██████████| 64275384/64275384 [00:05<00:00, 11093731.97it/s]\n"
          ]
        }
      ],
      "source": [
        "import torchvision.datasets as datasets\n",
        "train_dataset = datasets.SVHN(root='./data', split='train', transform = transform, download=True)\n",
        "test_dataset = datasets.SVHN(root='./data', split='test', transform = transform, download=True)"
      ]
    },
    {
      "cell_type": "code",
      "execution_count": null,
      "metadata": {
        "colab": {
          "base_uri": "https://localhost:8080/"
        },
        "id": "M652RMyNZTAS",
        "outputId": "c9464b77-7829-4b5f-da9e-6624b194d444"
      },
      "outputs": [
        {
          "output_type": "stream",
          "name": "stdout",
          "text": [
            "73257\n",
            "26032\n"
          ]
        }
      ],
      "source": [
        "# Check the sizes of the training and test dataset and verify\n",
        "# they match the description at the beginning\n",
        "print(len(train_dataset))\n",
        "print(len(test_dataset))"
      ]
    },
    {
      "cell_type": "markdown",
      "metadata": {
        "id": "asp-2shYABr_"
      },
      "source": [
        "## 1.2 Summarizing our Dataset"
      ]
    },
    {
      "cell_type": "markdown",
      "metadata": {
        "id": "Gth42e1eABr_"
      },
      "source": [
        "### 1.2.1 Looking at the distribution of labels"
      ]
    },
    {
      "cell_type": "code",
      "execution_count": null,
      "metadata": {
        "colab": {
          "base_uri": "https://localhost:8080/"
        },
        "id": "ldIRXCQmABr_",
        "outputId": "f9e0fd49-08c6-4c6a-9e85-81c660b5723b"
      },
      "outputs": [
        {
          "output_type": "stream",
          "name": "stdout",
          "text": [
            "Counter({1: 13861, 2: 10585, 3: 8497, 4: 7458, 5: 6882, 6: 5727, 7: 5595, 8: 5045, 0: 4948, 9: 4659})\n"
          ]
        }
      ],
      "source": [
        "# Use the original train dataset to obtain the number of label classes train data\n",
        "labels = []\n",
        "for image, label in train_dataset:\n",
        "  labels.append(label)\n",
        "train_num_labels = len(set(labels))\n",
        "\n",
        "# Create dictionary for train dataset\n",
        "train_dataset_dict = Counter(labels)\n",
        "\n",
        "# Create training data dataloader\n",
        "train_loader_bar_plot = DataLoader(train_dataset, batch_size=len(train_dataset), shuffle=True, num_workers=0)\n",
        "\n",
        "print(train_dataset_dict)"
      ]
    },
    {
      "cell_type": "code",
      "execution_count": null,
      "metadata": {
        "colab": {
          "base_uri": "https://localhost:8080/"
        },
        "id": "xuQyh4kFABsA",
        "outputId": "8bc3ef37-1b97-454f-ae11-a60294714101"
      },
      "outputs": [
        {
          "output_type": "stream",
          "name": "stdout",
          "text": [
            "Counter({1: 5099, 2: 4149, 3: 2882, 4: 2523, 5: 2384, 7: 2019, 6: 1977, 0: 1744, 8: 1660, 9: 1595})\n"
          ]
        }
      ],
      "source": [
        "# Use the original test dataset to obtain the number of label classes in test data\n",
        "labels = []\n",
        "for image, label in test_dataset:\n",
        "  labels.append(label)\n",
        "test_num_labels = len(set(labels))\n",
        "\n",
        "# Create dictionary for test dataset\n",
        "test_dataset_dict = Counter(labels)\n",
        "\n",
        "# Create testing data dataloader\n",
        "test_loader_bar_plot = DataLoader(test_dataset, batch_size=len(test_dataset), shuffle=True, num_workers=0)\n",
        "\n",
        "print(test_dataset_dict)"
      ]
    },
    {
      "cell_type": "markdown",
      "metadata": {
        "id": "5R_yIBZIABsA"
      },
      "source": [
        "### 1.2.2 Visualize through bar charts\n",
        "\n",
        "Now we are going to visualize the distribution of labels using bar charts for both training and testing set which we store the distributions in their respective dictionary objects in section 1.2.1."
      ]
    },
    {
      "cell_type": "code",
      "execution_count": null,
      "metadata": {
        "colab": {
          "base_uri": "https://localhost:8080/",
          "height": 564
        },
        "id": "tv0t3IA6ABsA",
        "outputId": "b7ea563d-4027-4a58-8db7-2d5596ce9316"
      },
      "outputs": [
        {
          "output_type": "display_data",
          "data": {
            "text/plain": [
              "<Figure size 800x600 with 1 Axes>"
            ],
            "image/png": "[encoded data removed]"
          },
          "metadata": {}
        }
      ],
      "source": [
        "# TRAIN Data\n",
        "plt.figure(figsize=(8,6))\n",
        "x_axis = list(train_dataset_dict.keys())\n",
        "y_axis = list(train_dataset_dict.values())\n",
        "\n",
        "train_bar_plt = plt.bar(x_axis, y_axis)\n",
        "\n",
        "plt.title('Training set labels and corresponding frequencies')\n",
        "plt.xlabel('Labels')\n",
        "plt.ylabel('Frequency')\n",
        "plt.xticks(x_axis)\n",
        "for bar in train_bar_plt:\n",
        "  height = bar.get_height()\n",
        "  plt.text(bar.get_x() + bar.get_width() / 2, height + 100, height, ha='center')\n",
        "\n",
        "plt.show()"
      ]
    },
    {
      "cell_type": "code",
      "execution_count": null,
      "metadata": {
        "colab": {
          "base_uri": "https://localhost:8080/",
          "height": 564
        },
        "id": "Iy3II4AnABsB",
        "outputId": "d72cc9ff-6db3-4777-bd97-7cf07cb074ca"
      },
      "outputs": [
        {
          "output_type": "display_data",
          "data": {
            "text/plain": [
              "<Figure size 800x600 with 1 Axes>"
            ],
            "image/png": "[encoded data removed]"
          },
          "metadata": {}
        }
      ],
      "source": [
        "# TEST Data\n",
        "plt.figure(figsize=(8,6))\n",
        "x_axis = list(test_dataset_dict.keys())\n",
        "y_axis = list(test_dataset_dict.values())\n",
        "\n",
        "test_bar_plt = plt.bar(x_axis, y_axis)\n",
        "\n",
        "plt.title('Testing set labels and corresponding frequencies')\n",
        "plt.xlabel('Labels')\n",
        "plt.ylabel('Frequency')\n",
        "plt.xticks(x_axis)\n",
        "for bar in test_bar_plt:\n",
        "  height = bar.get_height()\n",
        "  plt.text(bar.get_x() + bar.get_width() / 2, height + 60, height, ha='center')\n",
        "\n",
        "plt.show()"
      ]
    },
    {
      "cell_type": "markdown",
      "metadata": {
        "id": "Ea7fpC8CZTAW"
      },
      "source": [
        "### 1.2.3 Have equal spread of labels\n",
        "\n",
        "As you have seen in the previous parts, some classes have much lower representation in the dataset than others; this might cause issues as our dataset is currently skewed, meaning that the classes do not all have an equally likely chance of being selected randomly. We will change that in this section.\n",
        "\n",
        "We want **30,000** training images in our training data and **5,000** testing images in our testing data. In each dataset we want all our classes to have the same number of images.\n",
        "\n"
      ]
    },
    {
      "cell_type": "code",
      "execution_count": null,
      "metadata": {
        "id": "lrxFMF4SZTAW"
      },
      "outputs": [],
      "source": [
        "torch.manual_seed(42)\n",
        "\n",
        "# get 30000 indices for training data, with\n",
        "# an equal number of images for each class\n",
        "train_indices = []\n",
        "\n",
        "class_count = [[] for _ in range(10)]\n",
        "for index, (image, label) in enumerate(train_dataset):\n",
        "  if len(class_count[label]) < 3000:\n",
        "    class_count[label].append(index)\n",
        "\n",
        "train_indices = [indices for classes in class_count for indices in classes]\n",
        "\n",
        "train_count_dict = dict()"
      ]
    },
    {
      "cell_type": "code",
      "execution_count": null,
      "metadata": {
        "id": "Iqn-F8L_BBqs"
      },
      "outputs": [],
      "source": [
        "torch.manual_seed(42)\n",
        "\n",
        "# get 5000 indices for testing data, with\n",
        "# an equal number of images for each class\n",
        "test_indices = []\n",
        "\n",
        "class_count = [[] for _ in range(10)]\n",
        "for index, (image, label) in enumerate(test_dataset):\n",
        "  if len(class_count[label]) < 500:\n",
        "    class_count[label].append(index)\n",
        "\n",
        "test_indices = [indices for classes in class_count for indices in classes]\n",
        "\n",
        "test_count_dict = dict()"
      ]
    },
    {
      "cell_type": "code",
      "execution_count": null,
      "metadata": {
        "id": "5kxD9B2JZTAW"
      },
      "outputs": [],
      "source": [
        "# create subsets of the training and testing data\n",
        "from torch.utils.data import Subset\n",
        "train_subset = Subset(train_dataset, train_indices)\n",
        "test_subset = Subset(test_dataset, test_indices)"
      ]
    },
    {
      "cell_type": "markdown",
      "metadata": {
        "id": "8Va1WivSWwlZ"
      },
      "source": [
        "Create `train_subset_dict` and `test_subset_dict` using a similar process from 1.2.1"
      ]
    },
    {
      "cell_type": "code",
      "execution_count": null,
      "metadata": {
        "colab": {
          "base_uri": "https://localhost:8080/"
        },
        "id": "fvs3wVcnZTAX",
        "outputId": "90d960dd-8158-4058-9386-103e3601de8e"
      },
      "outputs": [
        {
          "output_type": "stream",
          "name": "stdout",
          "text": [
            "Counter({0: 3000, 1: 3000, 2: 3000, 3: 3000, 4: 3000, 5: 3000, 6: 3000, 7: 3000, 8: 3000, 9: 3000})\n",
            "Counter({0: 500, 1: 500, 2: 500, 3: 500, 4: 500, 5: 500, 6: 500, 7: 500, 8: 500, 9: 500})\n"
          ]
        }
      ],
      "source": [
        "test_loader_bar_plot = DataLoader(test_subset, batch_size=len(train_dataset), shuffle=True, num_workers=0)\n",
        "train_loader_bar_plot = DataLoader(train_subset, batch_size=len(train_dataset), shuffle=True, num_workers=0)\n",
        "\n",
        "labels = []\n",
        "for image, label in train_subset:\n",
        "  labels.append(label)\n",
        "\n",
        "train_subset_dict = Counter(labels)\n",
        "\n",
        "labels = []\n",
        "for image, label in test_subset:\n",
        "  labels.append(label)\n",
        "\n",
        "test_subset_dict = Counter(labels)\n",
        "\n",
        "# verify the number of images are equal for every class\n",
        "\n",
        "print(train_subset_dict)\n",
        "print(test_subset_dict)"
      ]
    },
    {
      "cell_type": "markdown",
      "metadata": {
        "id": "k1-CdaxjABsC"
      },
      "source": [
        "Now that we have `train_subset` and `test_subset`, let's create dataloaders using these two datasets.\n"
      ]
    },
    {
      "cell_type": "code",
      "execution_count": null,
      "metadata": {
        "id": "w7jfaN8rABsC"
      },
      "outputs": [],
      "source": [
        "batch = 64\n",
        "\n",
        "train_loader = DataLoader(train_subset, batch_size=batch, shuffle=True, num_workers=0)\n",
        "test_loader = DataLoader(test_subset, batch_size=batch, shuffle=True, num_workers=0)"
      ]
    },
    {
      "cell_type": "markdown",
      "metadata": {
        "id": "5cVmxiP0m3In"
      },
      "source": [
        "### 2.1.1 Logistic Regression Model Architecture"
      ]
    },
    {
      "cell_type": "code",
      "execution_count": null,
      "metadata": {
        "id": "8vIXliDkm3Io"
      },
      "outputs": [],
      "source": [
        "class LogReg(nn.Module):\n",
        "    def __init__(self):\n",
        "        super().__init__()\n",
        "        # initialize the neural network layers\n",
        "\n",
        "        self.flatten = nn.Flatten()\n",
        "        self.linear = nn.Linear(in_features = 3*32*32, out_features=10)\n",
        "\n",
        "\n",
        "    def forward(self, x):\n",
        "        # implement the operations on input data\n",
        "        x = self.flatten(x)\n",
        "        outputs = self.linear(x)\n",
        "\n",
        "        return outputs"
      ]
    },
    {
      "cell_type": "markdown",
      "metadata": {
        "id": "Hd5MCDQtm3Ip"
      },
      "source": [
        "Let's print the model summary"
      ]
    },
    {
      "cell_type": "code",
      "execution_count": null,
      "metadata": {
        "colab": {
          "base_uri": "https://localhost:8080/"
        },
        "id": "BkIy0N4Wm3Iq",
        "outputId": "34df68f3-fc24-4786-90ae-60ec9b499d33"
      },
      "outputs": [
        {
          "output_type": "execute_result",
          "data": {
            "text/plain": [
              "LogReg(\n",
              "  (flatten): Flatten(start_dim=1, end_dim=-1)\n",
              "  (linear): Linear(in_features=3072, out_features=10, bias=True)\n",
              ")"
            ]
          },
          "metadata": {},
          "execution_count": 26
        }
      ],
      "source": [
        "LogReg()"
      ]
    },
    {
      "cell_type": "markdown",
      "metadata": {
        "id": "jesvQ9qBm3Ir"
      },
      "source": [
        "### 2.1.2 Training Logistic Regression Model\n",
        "---"
      ]
    },
    {
      "cell_type": "code",
      "execution_count": null,
      "metadata": {
        "colab": {
          "base_uri": "https://localhost:8080/"
        },
        "id": "tmdlh86xm3Ir",
        "outputId": "1aa8fb2e-1ddd-403e-d888-c96afa749c89"
      },
      "outputs": [
        {
          "output_type": "stream",
          "name": "stdout",
          "text": [
            "The loss for Epoch 0 is: 2.296231437593635, Accuracy = 15.056666666666665\n",
            "The loss for Epoch 1 is: 2.25276926077251, Accuracy = 19.836666666666666\n",
            "The loss for Epoch 2 is: 2.238241804688216, Accuracy = 21.12333333333333\n",
            "The loss for Epoch 3 is: 2.2287371977051693, Accuracy = 22.12\n",
            "The loss for Epoch 4 is: 2.222709144356408, Accuracy = 22.75\n",
            "The loss for Epoch 5 is: 2.216964962131687, Accuracy = 23.236666666666668\n",
            "The loss for Epoch 6 is: 2.2141300879561823, Accuracy = 23.353333333333335\n",
            "The loss for Epoch 7 is: 2.2117150589855497, Accuracy = 23.84\n",
            "The loss for Epoch 8 is: 2.2053311669241897, Accuracy = 24.21666666666667\n",
            "The loss for Epoch 9 is: 2.202835450040252, Accuracy = 24.240000000000002\n",
            "CPU times: user 1min 36s, sys: 1.71 s, total: 1min 38s\n",
            "Wall time: 1min 45s\n"
          ]
        }
      ],
      "source": [
        "%%time\n",
        "# Sending the data to device (CPU or GPU)\n",
        "# (1) instantiate the logistic regression to variable logreg, (2) set the loss criterion as CrossEntropyLoss\n",
        "logreg = LogReg().to(device)\n",
        "criterion = nn.CrossEntropyLoss()\n",
        "\n",
        "optimizer = optim.Adam(logreg.parameters(), lr=1e-4) #lr - learning step\n",
        "epoch = 10\n",
        "\n",
        "loss_LIST_log = []\n",
        "acc_LIST_log = []\n",
        "\n",
        "# Train the Logistic Regression\n",
        "for epoch in range(epoch):\n",
        "  running_loss = 0.0\n",
        "  correct = 0\n",
        "  total = 0\n",
        "  for inputs, labels in train_loader:\n",
        "      labels = labels.type(torch.LongTensor) # Cast to Float\n",
        "      inputs, labels = inputs.to(device), labels.to(device)\n",
        "\n",
        "      # Step 1: Reset the optimizer tensor gradient every mini-batch\n",
        "      optimizer.zero_grad()\n",
        "      # Step 2: Feed the network the train data\n",
        "      outputs = logreg(inputs)\n",
        "      # Step 3: Get the prediction using argmax\n",
        "      _, predicted = torch.max(outputs.data, 1)\n",
        "      # Step 4: Find average loss for one mini-batch of inputs\n",
        "      loss = criterion(outputs, labels)\n",
        "      # Step 5: Do a back propagation\n",
        "      loss.backward()\n",
        "      # Step 6: Update the weight using the gradients from back propagation by learning step\n",
        "      optimizer.step()\n",
        "      # Step 7: Get loss and add to accumulated loss for each epoch\n",
        "      running_loss += loss.item()\n",
        "      # Step 8: Get number of correct prediction and add to correct and total\n",
        "      total += labels.size(0)\n",
        "      correct += (predicted == labels).sum().item()\n",
        "\n",
        "  # Step 9: Calculate training accuracy for each epoch and add to acc_LIST_log\n",
        "  accuracy = correct / total * 100\n",
        "  acc_LIST_log.append(accuracy)\n",
        "  # Step 10: Get average loss for each epoch and add to loss_LIST_log\n",
        "  loss_LIST_log.append(running_loss / len(train_loader))\n",
        "\n",
        "  # print statistics\n",
        "  print(\"The loss for Epoch {} is: {}, Accuracy = {}\".format(epoch, running_loss/len(train_loader), accuracy))"
      ]
    },
    {
      "cell_type": "markdown",
      "metadata": {
        "id": "e0LrNmOvm3Is"
      },
      "source": [
        "### 2.1.3 Plotting Training Accuracy vs Epochs for Logistic Regression\n",
        "\n",
        "---"
      ]
    },
    {
      "cell_type": "code",
      "execution_count": null,
      "metadata": {
        "colab": {
          "base_uri": "https://localhost:8080/",
          "height": 333
        },
        "id": "2VpyKMjem3Is",
        "outputId": "49426522-df78-4a36-ca09-2946370af3ae"
      },
      "outputs": [
        {
          "output_type": "display_data",
          "data": {
            "text/plain": [
              "<Figure size 500x300 with 1 Axes>"
            ],
            "image/png": "[encoded data removed]"
          },
          "metadata": {}
        }
      ],
      "source": [
        "import matplotlib.pyplot as plt\n",
        "import seaborn as sns\n",
        "\n",
        "plt.figure(figsize=(5,3))\n",
        "plt.plot(range(1, len(acc_LIST_log)+1), acc_LIST_log)\n",
        "plt.xticks(range(1, len(acc_LIST_log)+1))\n",
        "plt.title('Training Accuracy vs. Epochs For Logistic Regression')\n",
        "plt.xlabel('Epochs')\n",
        "plt.ylabel('Accuracy')\n",
        "\n",
        "plt.show()"
      ]
    },
    {
      "cell_type": "markdown",
      "metadata": {
        "id": "IrJ6qz4Rm3It"
      },
      "source": [
        "### 2.1.4 Logistic Regression Model Accuracy\n",
        "\n",
        "Calculate the Test Accuracy for the Logistic Regression Model we trained above."
      ]
    },
    {
      "cell_type": "code",
      "execution_count": null,
      "metadata": {
        "colab": {
          "base_uri": "https://localhost:8080/"
        },
        "id": "sbAYsblXm3It",
        "outputId": "3d7aa815-7e61-47c4-d2ca-9c329126ab98"
      },
      "outputs": [
        {
          "output_type": "stream",
          "name": "stdout",
          "text": [
            "Test Accuracy: 18.239999771118164\n"
          ]
        }
      ],
      "source": [
        "total = 0\n",
        "correct = 0\n",
        "with torch.no_grad():\n",
        "    for images, labels in test_loader:\n",
        "        labels = labels.type(torch.LongTensor) # Cast to Float\n",
        "        images, labels = images.to(device), labels.to(device)\n",
        "\n",
        "        # Get the output\n",
        "        outputs=logreg(images)\n",
        "        # Get the prediction using argmax\n",
        "        _, predicted = torch.max(outputs.data, 1)\n",
        "        # Get number of correct prediction and add to correct and total\n",
        "        total += labels.size(0)\n",
        "        correct += (predicted == labels).sum().item()\n",
        "# Calculate test accuracy for logistic regression (should multiple by 100)\n",
        "test_acc_log = correct / total * 100\n",
        "test_acc_log = torch.tensor(test_acc_log)\n",
        "\n",
        "print('Test Accuracy: ' + str(test_acc_log.item()))"
      ]
    },
    {
      "cell_type": "markdown",
      "metadata": {
        "id": "ycezEPcWm3Iv"
      },
      "source": [
        "\n",
        "Since logistic regression isn't that great at the classification problem above, we need more representation power in our model. We will now define a feedforward neural network.\n",
        "\n",
        "For this section, we're going to first create three different types of data inputs to analyze the performance in each.\n",
        "\n",
        "\n",
        "\n",
        "1.   First, we're going to analyze how well the *FNN* model will perform for a data input that only inludes data for the **red pixel values**. Since the shape of each one of our samples is (3, 32, 32), we're going to condense this down to (1, 32, 32) using a model architecture that can handle this new shape.\n",
        "2.   Second, we're going to analyze the performance of an *FNN* model on a data input that only includes data for the **grayscale values** of the image. As a reminder, the grayscale value of a pixel are calculated from the the average of the red, green, and blue pixel values. The shape of each sample should be (1, 32, 32)\n",
        "3. Finally, we'll use all of our inputs without modification to see how our *FNN* model performs with all data. We'll need to create a different architecture to handle the different sample size, but the original data loaders can be used.\n",
        "\n",
        "\n",
        "### 2.2.1 FNN Preprocessing Helper Functions\n"
      ]
    },
    {
      "cell_type": "markdown",
      "metadata": {
        "id": "QfbU0GmSm3Iv"
      },
      "source": [
        "### 2.2.1 Feedforward Neural Network Model Architecture"
      ]
    },
    {
      "cell_type": "code",
      "execution_count": null,
      "metadata": {
        "id": "zeydGGFYPiYz"
      },
      "outputs": [],
      "source": [
        "def raw_sample_to_red(sample):\n",
        "  # Convert an input tensor of shape (batch_size, 3, 32, 32) to just contain the red values\n",
        "\n",
        "  return sample[:, 0, :, :].unsqueeze(1)\n",
        "\n",
        "def raw_sample_to_grayscale(sample):\n",
        "  # Convert an input tensor of shape (batch_size, 3, 32, 32) to just contain the grey scale values\n",
        "  return sample.mean(dim=1).unsqueeze(1)"
      ]
    },
    {
      "cell_type": "markdown",
      "metadata": {
        "id": "Lsgte_E_PyT_"
      },
      "source": [
        "### 2.2.2 Feedforward Neural Network Model Architecture\n"
      ]
    },
    {
      "cell_type": "code",
      "execution_count": null,
      "metadata": {
        "id": "7ZVvgyJVm3Iv"
      },
      "outputs": [],
      "source": [
        "class FNN(nn.Module):\n",
        "    def __init__(self):\n",
        "        super().__init__()\n",
        "        # initialize the neural network layers\n",
        "        self.flatten = nn.Flatten()\n",
        "        self.hidden = nn.Linear(in_features=1*32*32, out_features=256)\n",
        "        self.relu = nn.ReLU()\n",
        "        self.output = nn.Linear(in_features=256, out_features=10)\n",
        "\n",
        "\n",
        "    def forward(self, x):\n",
        "        # implement the operations on input data\n",
        "        x = self.flatten(x)\n",
        "        x = self.relu(self.hidden(x))\n",
        "        outputs = self.output(x)\n",
        "\n",
        "        return outputs"
      ]
    },
    {
      "cell_type": "markdown",
      "metadata": {
        "id": "5rvgkSaTm3Iw"
      },
      "source": [
        "Let's print the model summary"
      ]
    },
    {
      "cell_type": "code",
      "execution_count": null,
      "metadata": {
        "colab": {
          "base_uri": "https://localhost:8080/"
        },
        "id": "g8Voqj1-m3Iw",
        "outputId": "d7f39468-b576-4fca-fefe-7c2ef87e2567"
      },
      "outputs": [
        {
          "output_type": "execute_result",
          "data": {
            "text/plain": [
              "FNN(\n",
              "  (flatten): Flatten(start_dim=1, end_dim=-1)\n",
              "  (hidden): Linear(in_features=1024, out_features=256, bias=True)\n",
              "  (relu): ReLU()\n",
              "  (output): Linear(in_features=256, out_features=10, bias=True)\n",
              ")"
            ]
          },
          "metadata": {},
          "execution_count": 37
        }
      ],
      "source": [
        "FNN()"
      ]
    },
    {
      "cell_type": "markdown",
      "metadata": {
        "id": "JUaHAHLum3Iw"
      },
      "source": [
        "### 2.2.3 Training FNN Model\n",
        "---"
      ]
    },
    {
      "cell_type": "code",
      "execution_count": null,
      "metadata": {
        "colab": {
          "base_uri": "https://localhost:8080/"
        },
        "id": "WSechmCnm3Ix",
        "outputId": "6efd78e0-c90d-4612-fd94-ff8d7b937a64"
      },
      "outputs": [
        {
          "output_type": "stream",
          "name": "stdout",
          "text": [
            "The loss for Epoch 0 is: 2.021026344441656, Accuracy = 37.21\n",
            "The loss for Epoch 1 is: 1.4797830391031848, Accuracy = 59.92333333333333\n",
            "The loss for Epoch 2 is: 1.2382403342708597, Accuracy = 65.73\n",
            "The loss for Epoch 3 is: 1.115596594332632, Accuracy = 68.18666666666667\n",
            "The loss for Epoch 4 is: 1.0345578562222055, Accuracy = 70.25333333333333\n",
            "The loss for Epoch 5 is: 0.9744725578121031, Accuracy = 71.93666666666667\n",
            "The loss for Epoch 6 is: 0.9235799405366373, Accuracy = 73.31333333333333\n",
            "The loss for Epoch 7 is: 0.8822078901186172, Accuracy = 74.31\n",
            "The loss for Epoch 8 is: 0.8458899685314724, Accuracy = 75.35333333333334\n",
            "The loss for Epoch 9 is: 0.8127181669796454, Accuracy = 76.43666666666667\n",
            "CPU times: user 1min 32s, sys: 512 ms, total: 1min 32s\n",
            "Wall time: 1min 33s\n"
          ]
        }
      ],
      "source": [
        "%%time\n",
        "# Sending the data to device (CPU or GPU)\n",
        "fnn_red = FNN().to(device)\n",
        "# Step 1: instantiate the FNN model to variable fnn_red\n",
        "\n",
        "# Step 2: set the loss criterion as CrossEntropyLoss\n",
        "criterion = nn.CrossEntropyLoss()\n",
        "\n",
        "optimizer = optim.Adam(fnn_red.parameters(), lr=1e-4) #lr - learning step\n",
        "epoch = 10\n",
        "\n",
        "acc_LIST_FNN_red = []\n",
        "loss_LIST_FNN_red = []\n",
        "\n",
        "# Train the FNN\n",
        "for epoch in range(epoch):\n",
        "  running_loss = 0.0\n",
        "  correct = 0\n",
        "  total = 0\n",
        "  for inputs, labels in train_loader:\n",
        "      labels = labels.type(torch.LongTensor) # Cast to Long\n",
        "      inputs, labels = inputs.to(device), labels.to(device)\n",
        "\n",
        "      # Step 1: Reset the optimizer tensor gradient every mini-batch\n",
        "      optimizer.zero_grad()\n",
        "      # Step 2: Feed the network the train data (use helper)\n",
        "      inputs = raw_sample_to_red(inputs)\n",
        "      outputs = fnn_red(inputs)\n",
        "      # Step 3: Get the prediction using argmax\n",
        "      _, predicted = torch.max(outputs.data, 1)\n",
        "      # Step 4: Find average loss for one mini-batch of inputs\n",
        "      loss = criterion(outputs, labels)\n",
        "      # Step 5: Do a back propagation\n",
        "      loss.backward()\n",
        "      # Step 6: Update the weight using the gradients from back propagation by learning step\n",
        "      optimizer.step()\n",
        "      # Step 7: Get loss and add to accumulated loss for each epoch\n",
        "      running_loss += loss.item()\n",
        "      # Step 8: Get number of correct prediction and add to correct and total\n",
        "      total += labels.size(0)\n",
        "      correct += (predicted == labels).sum().item()\n",
        "\n",
        "  # Step 9: Calculate training accuracy for each epoch and add to acc_LIST_FNN_red\n",
        "  accuracy = correct / total * 100\n",
        "  acc_LIST_FNN_red.append(accuracy)\n",
        "  # Step 10: Get average loss for each epoch and add to loss_LIST_FNN_red\n",
        "  loss_LIST_FNN_red.append(running_loss / len(train_loader))\n",
        "\n",
        "  # print statistics\n",
        "  print(\"The loss for Epoch {} is: {}, Accuracy = {}\".format(epoch, running_loss/len(train_loader), accuracy))"
      ]
    },
    {
      "cell_type": "markdown",
      "metadata": {
        "id": "gLh1a4XVQupr"
      },
      "source": [
        "Let's create a second training loop, but this time, we'll use our grayscale helper instead."
      ]
    },
    {
      "cell_type": "code",
      "execution_count": null,
      "metadata": {
        "id": "HsvJJhlXQ1MA",
        "colab": {
          "base_uri": "https://localhost:8080/"
        },
        "outputId": "d70a1c45-6a09-4be7-f7a5-c09ba4bcdb83"
      },
      "outputs": [
        {
          "output_type": "stream",
          "name": "stdout",
          "text": [
            "The loss for Epoch 0 is: 2.0350832756140083, Accuracy = 37.31\n",
            "The loss for Epoch 1 is: 1.4858317466687039, Accuracy = 61.25666666666667\n",
            "The loss for Epoch 2 is: 1.2350666070543628, Accuracy = 65.92666666666666\n",
            "The loss for Epoch 3 is: 1.110023232284131, Accuracy = 68.66333333333333\n",
            "The loss for Epoch 4 is: 1.0306297277590868, Accuracy = 70.56666666666666\n",
            "The loss for Epoch 5 is: 0.9697433774913552, Accuracy = 72.21666666666667\n",
            "The loss for Epoch 6 is: 0.9178314116209555, Accuracy = 73.71333333333332\n",
            "The loss for Epoch 7 is: 0.8750869866881543, Accuracy = 74.82\n",
            "The loss for Epoch 8 is: 0.8368122908098103, Accuracy = 75.98333333333333\n",
            "The loss for Epoch 9 is: 0.8017114909218827, Accuracy = 77.16333333333333\n",
            "CPU times: user 1min 33s, sys: 525 ms, total: 1min 34s\n",
            "Wall time: 1min 34s\n"
          ]
        }
      ],
      "source": [
        "%%time\n",
        "# Sending the data to device (CPU or GPU)\n",
        "fnn_gray = FNN().to(device)\n",
        "# Step 1: instantiate the FNN model to variable fnn_gray\n",
        "\n",
        "# Step 2: set the loss criterion as CrossEntropyLoss\n",
        "criterion = nn.CrossEntropyLoss()\n",
        "\n",
        "optimizer = optim.Adam(fnn_gray.parameters(), lr=1e-4) #lr - learning step\n",
        "epoch = 10\n",
        "\n",
        "acc_LIST_FNN_gray = []\n",
        "loss_LIST_FNN_gray = []\n",
        "\n",
        "# Train the FNN\n",
        "for epoch in range(epoch):\n",
        "  running_loss = 0.0\n",
        "  correct = 0\n",
        "  total = 0\n",
        "  for inputs, labels in train_loader:\n",
        "      labels = labels.type(torch.LongTensor) # Cast to Long\n",
        "      inputs, labels = inputs.to(device), labels.to(device)\n",
        "\n",
        "      # Step 1: Reset the optimizer tensor gradient every mini-batch\n",
        "      optimizer.zero_grad()\n",
        "      # Step 2: Feed the network the train data (use helper)\n",
        "      inputs = raw_sample_to_grayscale(inputs)\n",
        "      outputs = fnn_gray(inputs)\n",
        "      # Step 3: Get the prediction using argmax\n",
        "      _, predicted = torch.max(outputs.data, 1)\n",
        "      # Step 4: Find average loss for one mini-batch of inputs\n",
        "      loss = criterion(outputs, labels)\n",
        "      # Step 5: Do a back propagation\n",
        "      loss.backward()\n",
        "      # Step 6: Update the weight using the gradients from back propagation by learning step\n",
        "      optimizer.step()\n",
        "      # Step 7: Get loss and add to accumulated loss for each epoch\n",
        "      running_loss += loss.item()\n",
        "      # Step 8: Get number of correct prediction and add to correct and total\n",
        "      total += labels.size(0)\n",
        "      correct += (predicted == labels).sum().item()\n",
        "  # Step 9: Calculate training accuracy for each epoch and add to acc_LIST_FNN_gray\n",
        "  accuracy = correct / total * 100\n",
        "  acc_LIST_FNN_gray.append(accuracy)\n",
        "  # Step 10: Get average loss for each epoch and add to loss_LIST_FNN_gray\n",
        "  loss_LIST_FNN_gray.append(running_loss / len(train_loader))\n",
        "\n",
        "  # print statistics\n",
        "  print(\"The loss for Epoch {} is: {}, Accuracy = {}\".format(epoch, running_loss/len(train_loader), accuracy))"
      ]
    },
    {
      "cell_type": "markdown",
      "metadata": {
        "id": "4hTVoOhJRHur"
      },
      "source": [
        "### 2.2.4 Feed Forward Network on Raw Inputs Architecture\n",
        "\n",
        "\n",
        "Finally, let's see how the model fares with the normal raw inputs."
      ]
    },
    {
      "cell_type": "code",
      "execution_count": null,
      "metadata": {
        "id": "r45_JEyPRJp5"
      },
      "outputs": [],
      "source": [
        "class FNN_RAW(nn.Module):\n",
        "    def __init__(self):\n",
        "        super().__init__()\n",
        "        # initialize the neural network layers\n",
        "        self.flatten = nn.Flatten()\n",
        "        self.hidden = nn.Linear(in_features=3*32*32, out_features=256)\n",
        "        self.relu = nn.ReLU()\n",
        "        self.output = nn.Linear(in_features=256, out_features=10)\n",
        "\n",
        "    def forward(self, x):\n",
        "        # implement the operations on input data\n",
        "        x = self.flatten(x)\n",
        "        x = self.relu(self.hidden(x))\n",
        "        outputs = self.output(x)\n",
        "\n",
        "        return outputs"
      ]
    },
    {
      "cell_type": "markdown",
      "metadata": {
        "id": "so-k3qxKROum"
      },
      "source": [
        "Let's print the model summary"
      ]
    },
    {
      "cell_type": "code",
      "execution_count": null,
      "metadata": {
        "colab": {
          "base_uri": "https://localhost:8080/"
        },
        "id": "14W4qndiRQW5",
        "outputId": "d0210ef0-1450-4918-d7a1-bedea464b761"
      },
      "outputs": [
        {
          "output_type": "execute_result",
          "data": {
            "text/plain": [
              "FNN_RAW(\n",
              "  (flatten): Flatten(start_dim=1, end_dim=-1)\n",
              "  (hidden): Linear(in_features=3072, out_features=256, bias=True)\n",
              "  (relu): ReLU()\n",
              "  (output): Linear(in_features=256, out_features=10, bias=True)\n",
              ")"
            ]
          },
          "metadata": {},
          "execution_count": 42
        }
      ],
      "source": [
        "FNN_RAW()"
      ]
    },
    {
      "cell_type": "code",
      "execution_count": null,
      "metadata": {
        "colab": {
          "base_uri": "https://localhost:8080/"
        },
        "id": "666p7SSaRWIh",
        "outputId": "6f4d4248-5ce1-4617-a1bd-6adbf50d7dbf"
      },
      "outputs": [
        {
          "output_type": "stream",
          "name": "stdout",
          "text": [
            "The loss for Epoch 0 is: 1.787166121163602, Accuracy = 44.87\n",
            "The loss for Epoch 1 is: 1.212209277696955, Accuracy = 65.5\n",
            "The loss for Epoch 2 is: 1.039955743213198, Accuracy = 70.03666666666668\n",
            "The loss for Epoch 3 is: 0.9384641515166521, Accuracy = 72.72\n",
            "The loss for Epoch 4 is: 0.8678655948466075, Accuracy = 74.67333333333333\n",
            "The loss for Epoch 5 is: 0.8087310717939568, Accuracy = 76.50666666666666\n",
            "The loss for Epoch 6 is: 0.7584578122284367, Accuracy = 78.26666666666667\n",
            "The loss for Epoch 7 is: 0.7167351860989893, Accuracy = 79.36666666666666\n",
            "The loss for Epoch 8 is: 0.6804277175652192, Accuracy = 80.33333333333333\n",
            "The loss for Epoch 9 is: 0.6483465691746425, Accuracy = 81.49\n",
            "CPU times: user 1min 31s, sys: 547 ms, total: 1min 32s\n",
            "Wall time: 1min 32s\n"
          ]
        }
      ],
      "source": [
        "%%time\n",
        "# Sending the data to device (CPU or GPU)\n",
        "fnn = FNN_RAW().to(device)\n",
        "# Step 1: instantiate the FNN model to variable fnn\n",
        "\n",
        "# Step 2: set the loss criterion as CrossEntropyLoss\n",
        "criterion = nn.CrossEntropyLoss()\n",
        "\n",
        "optimizer = optim.Adam(fnn.parameters(), lr=1e-4) #lr - learning step\n",
        "epoch = 10\n",
        "\n",
        "acc_LIST_FNN = []\n",
        "loss_LIST_FNN = []\n",
        "\n",
        "# Train the FNN\n",
        "for epoch in range(epoch):\n",
        "  running_loss = 0.0\n",
        "  correct = 0\n",
        "  total = 0\n",
        "  for inputs, labels in train_loader:\n",
        "      labels = labels.type(torch.LongTensor) # Cast to Long\n",
        "      inputs, labels = inputs.to(device), labels.to(device)\n",
        "\n",
        "      # Step 1: Reset the optimizer tensor gradient every mini-batch\n",
        "      optimizer.zero_grad()\n",
        "      # Step 2: Feed the network the train data\n",
        "      outputs = fnn(inputs)\n",
        "      # Step 3: Get the prediction using argmax\n",
        "      _, predicted = torch.max(outputs.data, 1)\n",
        "      # Step 4: Find average loss for one mini-batch of inputs\n",
        "      loss = criterion(outputs, labels)\n",
        "      # Step 5: Do a back propagation\n",
        "      loss.backward()\n",
        "      # Step 6: Update the weight using the gradients from back propagation by learning step\n",
        "      optimizer.step()\n",
        "      # Step 7: Get loss and add to accumulated loss for each epoch\n",
        "      running_loss += loss.item()\n",
        "      # Step 8: Get number of correct prediction and add to correct and total\n",
        "      total += labels.size(0)\n",
        "      correct += (predicted == labels).sum().item()\n",
        "  # Step 9: Calculate training accuracy for each epoch and add to acc_LIST_FNN\n",
        "  accuracy = correct / total * 100\n",
        "  acc_LIST_FNN.append(accuracy)\n",
        "  # Step 10: Get average loss for each epoch and add to loss_LIST_FNN\n",
        "  loss_LIST_FNN.append(running_loss / len(train_loader))\n",
        "\n",
        "  # print statistics\n",
        "  print(\"The loss for Epoch {} is: {}, Accuracy = {}\".format(epoch, running_loss/len(train_loader), accuracy))"
      ]
    },
    {
      "cell_type": "markdown",
      "metadata": {
        "id": "DY0zMmGAm3Ix"
      },
      "source": [
        "### 2.2.5 Plotting Training Accuracy vs Epochs FNN\n",
        "\n",
        "---\n"
      ]
    },
    {
      "cell_type": "code",
      "execution_count": null,
      "metadata": {
        "id": "vIGWgoY3m3Ix",
        "colab": {
          "base_uri": "https://localhost:8080/",
          "height": 333
        },
        "outputId": "0835aead-e281-4d32-a602-da3cf5f305e6"
      },
      "outputs": [
        {
          "output_type": "display_data",
          "data": {
            "text/plain": [
              "<Figure size 500x300 with 1 Axes>"
            ],
            "image/png": "[encoded data removed]"
          },
          "metadata": {}
        }
      ],
      "source": [
        "import matplotlib.pyplot as plt\n",
        "import seaborn as sns\n",
        "\n",
        "plt.figure(figsize=(5,3))\n",
        "plt.plot(range(1, len(acc_LIST_FNN_red)+1), acc_LIST_FNN_red, color='red', label = 'Red')\n",
        "plt.plot(range(1, len(acc_LIST_FNN_red)+1), acc_LIST_FNN_gray, color='gray', label = 'Grayscale')\n",
        "plt.plot(range(1, len(acc_LIST_FNN_red)+1), acc_LIST_FNN, color='black', label = 'Raw')\n",
        "plt.xticks(range(1, len(acc_LIST_FNN_red)+1))\n",
        "\n",
        "plt.title('Training Accuracy vs. Epochs for Various Models')\n",
        "plt.xlabel('Epochs')\n",
        "plt.ylabel('Accuracy')\n",
        "plt.legend()\n",
        "\n",
        "plt.show()"
      ]
    },
    {
      "cell_type": "markdown",
      "metadata": {
        "id": "_LCcYIAWm3Iy"
      },
      "source": [
        "### 2.2.6 FNN Model Accuracy"
      ]
    },
    {
      "cell_type": "code",
      "execution_count": null,
      "metadata": {
        "id": "WAyibXsEm3Iy",
        "colab": {
          "base_uri": "https://localhost:8080/"
        },
        "outputId": "ffb6d3c6-252e-40b3-b17a-b88fa19402e2"
      },
      "outputs": [
        {
          "output_type": "stream",
          "name": "stdout",
          "text": [
            "Test Accuracy (Red Values Only): 70.9800033569336\n",
            "Test Accuracy (Grayscale Values Only): 71.5999984741211\n",
            "Test Accuracy (All Values): 74.76000213623047\n"
          ]
        }
      ],
      "source": [
        "total = 0\n",
        "correct_fnn = 0\n",
        "correct_fnn_red = 0\n",
        "correct_fnn_gray = 0\n",
        "with torch.no_grad():\n",
        "    for images, labels in test_loader:\n",
        "        labels = labels.type(torch.LongTensor) # Cast to Float\n",
        "        images, labels = images.to(device), labels.to(device)\n",
        "\n",
        "        # Get the output\n",
        "        red_images = raw_sample_to_red(images)\n",
        "        red_output = fnn_red(red_images)\n",
        "\n",
        "        gray_images = raw_sample_to_grayscale(images)\n",
        "        gray_output = fnn_gray(gray_images)\n",
        "\n",
        "        output = fnn(images)\n",
        "        # Get the prediction using argmax\n",
        "        _, red_predicted = torch.max(red_output.data, 1)\n",
        "        _, gray_predicted = torch.max(gray_output.data, 1)\n",
        "        _, predicted = torch.max(output.data, 1)\n",
        "        # Get number of correct prediction and add to correct and total\n",
        "        total += labels.size(0)\n",
        "        correct_fnn_red += (red_predicted == labels).sum().item()\n",
        "        correct_fnn_gray += (gray_predicted == labels).sum().item()\n",
        "        correct_fnn += (predicted == labels).sum().item()\n",
        "\n",
        "# Calculate test accuracy for FNN (should multiple by 100)\n",
        "test_acc_FNN_red = torch.tensor(correct_fnn_red / total * 100)\n",
        "test_acc_FNN_gray = torch.tensor(correct_fnn_gray / total * 100)\n",
        "test_acc_FNN = torch.tensor(correct_fnn / total * 100)\n",
        "\n",
        "print('Test Accuracy (Red Values Only): ' + str(test_acc_FNN_red.item()))\n",
        "print('Test Accuracy (Grayscale Values Only): ' + str(test_acc_FNN_gray.item()))\n",
        "print('Test Accuracy (All Values): ' + str(test_acc_FNN.item()))"
      ]
    },
    {
      "cell_type": "markdown",
      "metadata": {
        "id": "TrflHaqht5dV"
      },
      "source": [
        "##2.3 Convolutional Neural Networks"
      ]
    },
    {
      "cell_type": "markdown",
      "metadata": {
        "id": "5hZ19uCgt5dV"
      },
      "source": [
        "### 2.3.0 Calculating Output Dimensions of Convolution and Pooling Layers"
      ]
    },
    {
      "cell_type": "code",
      "execution_count": null,
      "metadata": {
        "id": "A3drwoLht5dX"
      },
      "outputs": [],
      "source": [
        "import math\n",
        "\n",
        "def feature_map_dim(input_dim, padding, kernel_size, stride):\n",
        "  '''\n",
        "  The function takes in the following four parameters and return the dimension of the output feature map.\n",
        "\n",
        "  input_dim: height/width of the input image\n",
        "  kernel_size: size of the convolving kernel (aka. filter)\n",
        "  padding: padding added to all four sides of the input in order to preserve the edges/borders\n",
        "  stride: Stride of the convolution, or how many shifts per kernel\n",
        "\n",
        "  ROUND DOWN.\n",
        "\n",
        "  set dilation to 1\n",
        "  '''\n",
        "  dilation = 1\n",
        "  output_dim = math.floor((((input_dim + 2 * padding - dilation * (kernel_size - 1) - 1) / (stride)) + 1))\n",
        "  return output_dim"
      ]
    },
    {
      "cell_type": "markdown",
      "metadata": {
        "id": "NrNiZOMc49uR"
      },
      "source": [
        "### 2.3.1 Create custom Convolutional Neural Network Architecture"
      ]
    },
    {
      "cell_type": "code",
      "execution_count": null,
      "metadata": {
        "id": "0pLMEFjF8NhO"
      },
      "outputs": [],
      "source": [
        "class CNN(nn.Module):\n",
        "    def __init__(self):\n",
        "        super().__init__()\n",
        "\n",
        "        self.flatten = nn.Flatten()\n",
        "        self.relu = nn.ReLU()\n",
        "        self.pool = nn.MaxPool2d(kernel_size=2, stride=2)\n",
        "\n",
        "        self.conv1 = nn.Conv2d(in_channels=3, out_channels=32, kernel_size=3, stride=1, padding=1)\n",
        "        self.conv2 = nn.Conv2d(in_channels=32, out_channels=64, kernel_size=3, stride=1, padding=1)\n",
        "\n",
        "        after_conv1_dim = feature_map_dim(32, padding=1, kernel_size=3, stride=1)\n",
        "        after_pool1_dim = feature_map_dim(after_conv1_dim, padding=0, kernel_size=2, stride=2)\n",
        "        after_conv2_dim = feature_map_dim(after_pool1_dim, padding=1, kernel_size=3, stride=1)\n",
        "        after_pool2_dim = feature_map_dim(after_conv2_dim, padding=0, kernel_size=2, stride=2)\n",
        "\n",
        "        self.fc1 = nn.Linear(in_features=after_pool2_dim * after_pool2_dim * 64, out_features=128)\n",
        "        self.fc2 = nn.Linear(in_features=128, out_features=10)\n",
        "\n",
        "    def forward(self, x):\n",
        "      x = self.pool(self.relu(self.conv1(x)))\n",
        "      x = self.pool(self.relu(self.conv2(x)))\n",
        "      x = self.flatten(x)\n",
        "      x = self.relu(self.fc1(x))\n",
        "      outputs = self.fc2(x)\n",
        "      return outputs"
      ]
    },
    {
      "cell_type": "code",
      "execution_count": null,
      "metadata": {
        "id": "ujHmdgFa870L",
        "colab": {
          "base_uri": "https://localhost:8080/"
        },
        "outputId": "74c4e861-0209-4ca4-e9b2-58b0df140e62"
      },
      "outputs": [
        {
          "output_type": "execute_result",
          "data": {
            "text/plain": [
              "CNN(\n",
              "  (flatten): Flatten(start_dim=1, end_dim=-1)\n",
              "  (relu): ReLU()\n",
              "  (pool): MaxPool2d(kernel_size=2, stride=2, padding=0, dilation=1, ceil_mode=False)\n",
              "  (conv1): Conv2d(3, 32, kernel_size=(3, 3), stride=(1, 1), padding=(1, 1))\n",
              "  (conv2): Conv2d(32, 64, kernel_size=(3, 3), stride=(1, 1), padding=(1, 1))\n",
              "  (fc1): Linear(in_features=4096, out_features=128, bias=True)\n",
              "  (fc2): Linear(in_features=128, out_features=10, bias=True)\n",
              ")"
            ]
          },
          "metadata": {},
          "execution_count": 53
        }
      ],
      "source": [
        "CNN()"
      ]
    },
    {
      "cell_type": "markdown",
      "metadata": {
        "id": "6O2dxIV5t5da"
      },
      "source": [
        "### 2.3.2 Training CNN Model\n",
        "---"
      ]
    },
    {
      "cell_type": "code",
      "execution_count": null,
      "metadata": {
        "colab": {
          "base_uri": "https://localhost:8080/"
        },
        "id": "lW3e2k4Vt5da",
        "outputId": "1271f3c7-92a5-447d-9fee-5185e1ab2aa8"
      },
      "outputs": [
        {
          "output_type": "stream",
          "name": "stdout",
          "text": [
            "The loss for Epoch 0 is: 1.982753707401788, Accuracy = 33.776666666666664\n",
            "The loss for Epoch 1 is: 0.9938114798907787, Accuracy = 72.06666666666666\n",
            "The loss for Epoch 2 is: 0.7607393489717674, Accuracy = 78.41666666666667\n",
            "The loss for Epoch 3 is: 0.6679986395053009, Accuracy = 81.32333333333334\n",
            "The loss for Epoch 4 is: 0.6174856368730317, Accuracy = 82.75333333333333\n",
            "The loss for Epoch 5 is: 0.576341836691411, Accuracy = 84.01333333333334\n",
            "The loss for Epoch 6 is: 0.5469494249774958, Accuracy = 84.71666666666667\n",
            "The loss for Epoch 7 is: 0.5214236894967967, Accuracy = 85.41333333333333\n",
            "The loss for Epoch 8 is: 0.4989251052138648, Accuracy = 85.96333333333334\n",
            "The loss for Epoch 9 is: 0.478611333061383, Accuracy = 86.52666666666666\n",
            "CPU times: user 1min 39s, sys: 950 ms, total: 1min 40s\n",
            "Wall time: 1min 44s\n"
          ]
        }
      ],
      "source": [
        "%%time\n",
        "cnn = CNN().to(device)\n",
        "criterion = nn.CrossEntropyLoss()\n",
        "optimizer = optim.Adam(cnn.parameters(), lr=1e-4) #lr - learning step\n",
        "epoch = 10\n",
        "acc_LIST_CNN = []\n",
        "loss_LIST_CNN = []\n",
        "for epoch in range(epoch):\n",
        "  running_loss = 0.0\n",
        "  correct = 0\n",
        "  total = 0\n",
        "  for inputs, labels in train_loader:\n",
        "      labels = labels.type(torch.LongTensor) # Cast to Float\n",
        "      inputs, labels = inputs.to(device), labels.to(device)\n",
        "      optimizer.zero_grad()\n",
        "      outputs = cnn(inputs)\n",
        "      _, predicted = torch.max(outputs.data, 1)\n",
        "      loss = criterion(outputs, labels)\n",
        "      loss.backward()\n",
        "      optimizer.step()\n",
        "      running_loss += loss.item()\n",
        "      total += labels.size(0)\n",
        "      correct += (predicted == labels).sum().item()\n",
        "  accuracy = correct / total * 100\n",
        "  acc_LIST_CNN.append(accuracy)\n",
        "  loss_LIST_CNN.append(running_loss / len(train_loader))\n",
        "\n",
        "  # print statistics\n",
        "  print(\"The loss for Epoch {} is: {}, Accuracy = {}\".format(epoch, running_loss/len(train_loader), accuracy))"
      ]
    },
    {
      "cell_type": "markdown",
      "metadata": {
        "id": "wPowtEwjt5db"
      },
      "source": [
        "### 2.3.3 Plotting Training Accuracy vs Epochs CNN\n",
        "\n",
        "---\n"
      ]
    },
    {
      "cell_type": "code",
      "execution_count": null,
      "metadata": {
        "colab": {
          "base_uri": "https://localhost:8080/",
          "height": 333
        },
        "id": "pBZOYpJJt5db",
        "outputId": "b0375bfd-d001-4f10-b76a-dc9e6390739e"
      },
      "outputs": [
        {
          "output_type": "display_data",
          "data": {
            "text/plain": [
              "<Figure size 500x300 with 1 Axes>"
            ],
            "image/png": "[encoded data removed]"
          },
          "metadata": {}
        }
      ],
      "source": [
        "import matplotlib.pyplot as plt\n",
        "import seaborn as sns\n",
        "\n",
        "plt.figure(figsize=(5,3))\n",
        "plt.plot(range(1, len(acc_LIST_CNN)+1), acc_LIST_CNN)\n",
        "plt.xticks(range(1, len(acc_LIST_CNN)+1))\n",
        "plt.title('Training Accuracy vs. Epochs For CNN')\n",
        "plt.xlabel('Epochs')\n",
        "plt.ylabel('Accuracy')\n",
        "\n",
        "plt.show()"
      ]
    },
    {
      "cell_type": "markdown",
      "metadata": {
        "id": "wCBs-UQ0t5db"
      },
      "source": [
        "### 2.3.4 CNN Model Test Accuracy\n"
      ]
    },
    {
      "cell_type": "code",
      "execution_count": null,
      "metadata": {
        "colab": {
          "base_uri": "https://localhost:8080/"
        },
        "id": "-uG-m_1bt5dc",
        "outputId": "e0682646-e3a7-474c-e378-50c5d99eaaeb"
      },
      "outputs": [
        {
          "output_type": "stream",
          "name": "stdout",
          "text": [
            "Test Accuracy: 81.68000030517578\n"
          ]
        }
      ],
      "source": [
        "total = 0\n",
        "correct = 0\n",
        "with torch.no_grad():\n",
        "    for images, labels in test_loader:\n",
        "        labels = labels.type(torch.LongTensor) # Cast to Float\n",
        "        images, labels = images.to(device), labels.to(device)\n",
        "\n",
        "        # Get the output\n",
        "        outputs = cnn(images)\n",
        "        # Get the prediction using argmax\n",
        "        _, predicted = torch.max(outputs.data, 1)\n",
        "        # Get number of correct prediction and add to correct and total\n",
        "        total += labels.size(0)\n",
        "        correct += (predicted == labels).sum().item()\n",
        "\n",
        "# Calculate test accuracy for CNN\n",
        "test_acc_CNN = torch.tensor(correct / total * 100)\n",
        "\n",
        "print(f'Test Accuracy: ' + str(test_acc_CNN.item()))"
      ]
    },
    {
      "cell_type": "markdown",
      "metadata": {
        "id": "0sdUq8y07Luh"
      },
      "source": [
        "### 2.3.5 CNN Hyperparameter Tuning\n",
        "\n",
        "In this section, we will now explore how we can find an \"optimal\" Convolutional Neural Network architecture by tuning some hyperparameters. For this section, we will particularly focus on the `learning rate`, `beta1`, `beta2` and `number of fully connected layers`."
      ]
    },
    {
      "cell_type": "markdown",
      "metadata": {
        "id": "oMZM11aOVtGA"
      },
      "source": [
        "Create a new model that will be used in the hyperparameter tuning."
      ]
    },
    {
      "cell_type": "code",
      "execution_count": null,
      "metadata": {
        "id": "SKwAWi-XRmFo"
      },
      "outputs": [],
      "source": [
        "# Create a new model CNNTuned whose hyperaparameters we will tune\n",
        "class CNNTuned(nn.Module):\n",
        "    def __init__(self, ff_layers = 3):\n",
        "        super().__init__()\n",
        "\n",
        "        self.flatten = nn.Flatten()\n",
        "        self.relu = nn.ReLU()\n",
        "        self.pool = nn.MaxPool2d(kernel_size=2, stride=2)\n",
        "\n",
        "        self.conv1 = nn.Conv2d(in_channels=3, out_channels=32, kernel_size=3, stride=1, padding=1)\n",
        "        self.conv2 = nn.Conv2d(in_channels=32, out_channels=64, kernel_size=3, stride=1, padding=1)\n",
        "\n",
        "        after_conv1_dim = feature_map_dim(32, padding=1, kernel_size=3, stride=1)\n",
        "        after_pool1_dim = feature_map_dim(after_conv1_dim, padding=0, kernel_size=2, stride=2)\n",
        "        after_conv2_dim = feature_map_dim(after_pool1_dim, padding=1, kernel_size=3, stride=1)\n",
        "        after_pool2_dim = feature_map_dim(after_conv2_dim, padding=0, kernel_size=2, stride=2)\n",
        "\n",
        "        self.ff_layers = nn.ModuleList()\n",
        "        input_dim = after_pool2_dim * after_pool2_dim * 64\n",
        "\n",
        "        for i in range(ff_layers - 1):\n",
        "          self.ff_layers.append(nn.Linear(input_dim, input_dim // 2))\n",
        "          input_dim = input_dim // 2\n",
        "\n",
        "        self.ff_layers.append(nn.Linear(in_features=input_dim, out_features=10))\n",
        "\n",
        "    def forward(self, x):\n",
        "\n",
        "        x = self.pool(self.relu(self.conv1(x)))\n",
        "        x = self.pool(self.relu(self.conv2(x)))\n",
        "        x = self.flatten(x)\n",
        "        for layer in self.ff_layers[:-1]:\n",
        "          x = self.relu(layer(x))\n",
        "\n",
        "        outputs = self.ff_layers[-1](x)\n",
        "        return outputs"
      ]
    },
    {
      "cell_type": "markdown",
      "metadata": {
        "id": "7LnGs6PO9X_6"
      },
      "source": [
        "The way we will tune these hyperparameters is by conducting a gridsearch on these various hyperparameters."
      ]
    },
    {
      "cell_type": "code",
      "execution_count": null,
      "metadata": {
        "id": "dN1osFGeXMdF"
      },
      "outputs": [],
      "source": [
        "from sklearn.model_selection import ParameterGrid"
      ]
    },
    {
      "cell_type": "code",
      "execution_count": null,
      "metadata": {
        "id": "9TvYWvK29SMU"
      },
      "outputs": [],
      "source": [
        "param_grid = {\n",
        "    'learning_rate': [0.001, 0.0005, 0.0001],\n",
        "    'betas': [(0.9, 0.999), (0.95, 0.995), (0.99, 0.99)],\n",
        "    'num_layers': [2, 3, 4],\n",
        "}\n",
        "\n",
        "pgrid = ParameterGrid(param_grid)\n",
        "\n",
        "num_epochs = 5"
      ]
    },
    {
      "cell_type": "code",
      "execution_count": null,
      "metadata": {
        "id": "uO7m__SZBENI",
        "colab": {
          "base_uri": "https://localhost:8080/"
        },
        "outputId": "6e048dd3-a6d2-4e91-a907-ee5cb2eb776a"
      },
      "outputs": [
        {
          "output_type": "stream",
          "name": "stdout",
          "text": [
            "94.36666666666666\n",
            "{'betas': (0.9, 0.999), 'learning_rate': 0.0005, 'num_layers': 3}\n"
          ]
        }
      ],
      "source": [
        "# Conduct grid search.\n",
        "# PICKING BEST ONE JUST ON ACCURACY\n",
        "def cnn_train(model, train_loader, optimizer, num_epochs):\n",
        "  best_accuracy = 0\n",
        "  for epoch in range(num_epochs):\n",
        "    correct = 0\n",
        "    total = 0\n",
        "    for inputs, labels in train_loader:\n",
        "      labels = labels.type(torch.LongTensor)\n",
        "      inputs, labels = inputs.to(device), labels.to(device)\n",
        "\n",
        "      optimizer.zero_grad()\n",
        "\n",
        "      outputs = model(inputs)\n",
        "\n",
        "      _, predicted = torch.max(outputs.data, 1)\n",
        "\n",
        "      loss = criterion(outputs, labels)\n",
        "\n",
        "      loss.backward()\n",
        "\n",
        "      optimizer.step()\n",
        "\n",
        "      total += labels.size(0)\n",
        "      correct += (predicted == labels).sum().item()\n",
        "\n",
        "    accuracy = correct / total * 100\n",
        "    if accuracy > best_accuracy:\n",
        "      best_accuracy = accuracy\n",
        "\n",
        "  return best_accuracy\n",
        "\n",
        "best_params = None\n",
        "best_accuracy = 0\n",
        "\n",
        "for params in pgrid:\n",
        "  model = CNNTuned(ff_layers = params['num_layers']).to(device)\n",
        "  optimizer = optim.Adam(model.parameters(), lr=params['learning_rate'], betas=params['betas'])\n",
        "  criterion = nn.CrossEntropyLoss()\n",
        "\n",
        "  accuracy = cnn_train(model, train_loader, optimizer, num_epochs)\n",
        "\n",
        "  if accuracy > best_accuracy:\n",
        "    best_accuracy = accuracy\n",
        "    best_params = params\n",
        "\n",
        "print(best_accuracy)\n",
        "print(best_params)"
      ]
    },
    {
      "cell_type": "markdown",
      "metadata": {
        "id": "Nda1GwKSZqB0"
      },
      "source": [
        "Now that we ran the grid search, we find the best hyperparameters and use them to train the model."
      ]
    },
    {
      "cell_type": "code",
      "execution_count": null,
      "metadata": {
        "id": "rdy2eXWpZ4sM",
        "colab": {
          "base_uri": "https://localhost:8080/"
        },
        "outputId": "ec64cb53-692b-4bd5-a233-cbfddc67348d"
      },
      "outputs": [
        {
          "output_type": "stream",
          "name": "stdout",
          "text": [
            "The loss for Epoch 0 is: 1.0481821120357209, Accuracy = 65.11\n",
            "The loss for Epoch 1 is: 0.46330294988429876, Accuracy = 85.96333333333334\n",
            "The loss for Epoch 2 is: 0.33478991115398243, Accuracy = 89.76333333333332\n",
            "The loss for Epoch 3 is: 0.23901698561206555, Accuracy = 92.99666666666667\n",
            "The loss for Epoch 4 is: 0.1645985536420269, Accuracy = 95.08\n",
            "The loss for Epoch 5 is: 0.10603305414668533, Accuracy = 96.82\n",
            "The loss for Epoch 6 is: 0.08030042181641403, Accuracy = 97.59333333333333\n",
            "The loss for Epoch 7 is: 0.0597198557958547, Accuracy = 98.14\n",
            "The loss for Epoch 8 is: 0.03781643252162489, Accuracy = 98.88333333333334\n",
            "The loss for Epoch 9 is: 0.036885727201648025, Accuracy = 98.79333333333334\n",
            "CPU times: user 2min, sys: 583 ms, total: 2min 1s\n",
            "Wall time: 2min 1s\n"
          ]
        }
      ],
      "source": [
        "%%time\n",
        "\n",
        "acc_LIST_CNN_TUNE = []\n",
        "loss_LIST_CNN_TUNE = []\n",
        "\n",
        "# Train the CNN\n",
        "\n",
        "# %%time\n",
        "\n",
        "cnn_tune = CNNTuned(ff_layers = 3).to(device)\n",
        "# Step 2: set the loss criterion as CrossEntropyLoss\n",
        "criterion = nn.CrossEntropyLoss()\n",
        "\n",
        "optimizer = optim.Adam(cnn_tune.parameters(), lr=0.0005, betas=(0.9, 0.999)) #lr - learning step\n",
        "epoch = 10\n",
        "\n",
        "# Train the CNN\n",
        "for epoch in range(epoch):\n",
        "  running_loss = 0.0\n",
        "  correct = 0\n",
        "  total = 0\n",
        "  for inputs, labels in train_loader:\n",
        "      labels = labels.type(torch.LongTensor) # Cast to Float\n",
        "      inputs, labels = inputs.to(device), labels.to(device)\n",
        "\n",
        "      # Step 1: Reset the optimizer tensor gradient every mini-batch\n",
        "      optimizer.zero_grad()\n",
        "      # Step 2: Feed the network the train data\n",
        "      outputs = cnn_tune(inputs)\n",
        "      # Step 3: Get the prediction using argmax\n",
        "      _, predicted = torch.max(outputs.data, 1)\n",
        "      # Step 4: Find average loss for one mini-batch of inputs\n",
        "      loss = criterion(outputs, labels)\n",
        "      # Step 5: Do a back propagation\n",
        "      loss.backward()\n",
        "      # Step 6: Update the weight using the gradients from back propagation by learning step\n",
        "      optimizer.step()\n",
        "      # Step 7: Get loss and add to accumulated loss for each epoch\n",
        "      running_loss += loss.item()\n",
        "      # Step 8: Get number of correct prediction and increment the number of correct and total predictions after this batch\n",
        "      total += labels.size(0)\n",
        "      correct += (predicted == labels).sum().item()\n",
        "  # Step 9: Calculate training accuracy for each epoch (should multiply by 100 to get percentage), store in variable called 'accuracy', and add to acc_LIST_CNN\n",
        "  accuracy = correct / total * 100\n",
        "  acc_LIST_CNN_TUNE.append(accuracy)\n",
        "  # Step 10: Get average loss for each epoch and add to loss_LIST_CNN\n",
        "  loss_LIST_CNN_TUNE.append(running_loss / len(train_loader))\n",
        "\n",
        "  # print statistics\n",
        "  print(\"The loss for Epoch {} is: {}, Accuracy = {}\".format(epoch, running_loss/len(train_loader), accuracy))"
      ]
    },
    {
      "cell_type": "markdown",
      "metadata": {
        "id": "fIO6krC9-kgp"
      },
      "source": [
        "Now, let's run the new model on the test data and gauge its performance."
      ]
    },
    {
      "cell_type": "code",
      "execution_count": null,
      "metadata": {
        "id": "ix4esy4K-w0r",
        "colab": {
          "base_uri": "https://localhost:8080/"
        },
        "outputId": "2d56c187-4619-4dd0-8f5a-0ffecec17010"
      },
      "outputs": [
        {
          "output_type": "stream",
          "name": "stdout",
          "text": [
            "Test Accuracy: 86.05999755859375\n"
          ]
        }
      ],
      "source": [
        "total = 0\n",
        "correct = 0\n",
        "with torch.no_grad():\n",
        "    for images, labels in test_loader:\n",
        "        labels = labels.type(torch.LongTensor) # Cast to Float\n",
        "        images, labels = images.to(device), labels.to(device)\n",
        "\n",
        "        # Get the output\n",
        "        outputs = cnn_tune(images)\n",
        "        # Get the prediction using argmax\n",
        "        _, predicted = torch.max(outputs.data, 1)\n",
        "        # Get number of correct prediction and add to correct and total\n",
        "        total += labels.size(0)\n",
        "        correct += (predicted == labels).sum().item()\n",
        "# Calculate test accuracy for CNN\n",
        "test_acc_CNN = torch.tensor(100 * correct / total)\n",
        "\n",
        "print(f'Test Accuracy: ' + str(test_acc_CNN.item()))"
      ]
    },
    {
      "cell_type": "markdown",
      "metadata": {
        "id": "6zf6YZk3t5dc"
      },
      "source": [
        "## 2.4. Reflection\n"
      ]
    },
    {
      "cell_type": "markdown",
      "metadata": {
        "id": "rNLaEserlayE"
      },
      "source": [
        "\n",
        "Let's compare the model performance:"
      ]
    },
    {
      "cell_type": "code",
      "execution_count": null,
      "metadata": {
        "id": "iZCBqWa6lJSb",
        "colab": {
          "base_uri": "https://localhost:8080/"
        },
        "outputId": "e13a7701-1a45-44a0-de55-9e0ffc843344"
      },
      "outputs": [
        {
          "output_type": "stream",
          "name": "stdout",
          "text": [
            "Test Accuracy for Logistic Regression: 18.239999771118164\n",
            "Test Accuracy for FNN: 74.76000213623047\n",
            "Test Accuracy for CNN: 86.05999755859375\n"
          ]
        }
      ],
      "source": [
        "print(f'Test Accuracy for Logistic Regression: ' + str(test_acc_log.item()))\n",
        "print(f'Test Accuracy for FNN: ' + str(test_acc_FNN.item()))\n",
        "print(f'Test Accuracy for CNN: ' + str(test_acc_CNN.item()))"
      ]
    },
    {
      "cell_type": "markdown",
      "metadata": {
        "id": "HAbFnMXst_7i"
      },
      "source": [
        "### 2.5.1 Creating Confusion Matrix\n",
        "\n",
        "---"
      ]
    },
    {
      "cell_type": "code",
      "execution_count": null,
      "metadata": {
        "id": "CVk7BesQt_7j"
      },
      "outputs": [],
      "source": [
        "import pandas as pd\n",
        "import numpy as np\n",
        "from sklearn.metrics import confusion_matrix\n",
        "\n",
        "def cm_generator(test_loader):\n",
        "\n",
        "  # The goal is to obtain two lists of prediction and actual labels.\n",
        "  # Then, using these two lists, create a confusion matrix dataframe\n",
        "  prediction_list = []\n",
        "  actual_list = []\n",
        "  with torch.no_grad():\n",
        "      for images, labels in test_loader:\n",
        "          labels = labels.type(torch.LongTensor)\n",
        "          images, labels = images.to(device), labels.to(device)\n",
        "\n",
        "          outputs = cnn_tune(images)\n",
        "\n",
        "          _, predicted = torch.max(outputs.data, 1)\n",
        "\n",
        "          prediction_list.extend(predicted.cpu().numpy())\n",
        "          actual_list.extend(labels.cpu().numpy())\n",
        "\n",
        "  con_matrix = confusion_matrix(actual_list, prediction_list)\n",
        "  return pd.DataFrame(con_matrix)\n",
        "\n",
        "confusion_matrix_df = cm_generator(test_loader)"
      ]
    },
    {
      "cell_type": "markdown",
      "metadata": {
        "id": "bfz3myW0t_7k"
      },
      "source": [
        "### 2.5.2 Visualizing Confusion Matrix\n",
        "\n",
        "---"
      ]
    },
    {
      "cell_type": "code",
      "execution_count": null,
      "metadata": {
        "id": "zMOQnqEAt_7k",
        "colab": {
          "base_uri": "https://localhost:8080/",
          "height": 410
        },
        "outputId": "b012875f-483b-4a82-b948-ec2c64676ecc"
      },
      "outputs": [
        {
          "output_type": "display_data",
          "data": {
            "text/plain": [
              "<Figure size 800x400 with 2 Axes>"
            ],
            "image/png": "[encoded data removed]"
          },
          "metadata": {}
        }
      ],
      "source": [
        "plt.figure(figsize=(8,4))\n",
        "sns.heatmap(confusion_matrix_df, annot=True, cmap='crest', fmt = 'g')\n",
        "plt.title('Confusion Matrix For the 10 Labels')\n",
        "plt.ylabel('Actual')\n",
        "plt.xlabel('Predicted')\n",
        "\n",
        "plt.show()"
      ]
    }
  ],
  "metadata": {
    "accelerator": "GPU",
    "colab": {
      "provenance": [],
      "include_colab_link": true
    },
    "kernelspec": {
      "display_name": "Python 3",
      "name": "python3"
    },
    "language_info": {
      "name": "python"
    }
  },
  "nbformat": 4,
  "nbformat_minor": 0
}